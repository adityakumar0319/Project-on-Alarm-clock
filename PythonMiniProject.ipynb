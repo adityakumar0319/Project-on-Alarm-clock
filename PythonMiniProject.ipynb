{
 "cells": [
  {
   "cell_type": "code",
   "execution_count": null,
   "id": "423a3911-e1be-461c-9fe1-1f9bae1265bf",
   "metadata": {},
   "outputs": [
    {
     "name": "stderr",
     "output_type": "stream",
     "text": [
      "<>:55: SyntaxWarning: invalid escape sequence '\\D'\n",
      "<>:55: SyntaxWarning: invalid escape sequence '\\D'\n",
      "C:\\Users\\aditya\\AppData\\Local\\Temp\\ipykernel_3080\\3741146192.py:55: SyntaxWarning: invalid escape sequence '\\D'\n",
      "  sound_file = \"C:\\Download\\Alarm_Sound.mp3\"  # Change this to your sound file path\n"
     ]
    },
    {
     "name": "stdin",
     "output_type": "stream",
     "text": [
      "Enter the hour (0-23):  13\n",
      "Enter the minute (0-59):  59\n",
      "Enter snooze duration (in minutes):  1\n"
     ]
    },
    {
     "name": "stdout",
     "output_type": "stream",
     "text": [
      "Alarm set for 13:59:00 with snooze duration of 1 minutes.\n",
      "Current time: 13:59:00\n",
      "Alarm ringing!\n"
     ]
    },
    {
     "name": "stdin",
     "output_type": "stream",
     "text": [
      "Press 's' to snooze or 'c' to close the alarm:  s\n"
     ]
    },
    {
     "name": "stdout",
     "output_type": "stream",
     "text": [
      "Snoozing for 5 minutes...\n",
      "Current time: 14:00:00\n",
      "Alarm ringing!\n"
     ]
    },
    {
     "name": "stdin",
     "output_type": "stream",
     "text": [
      "Press 's' to snooze or 'c' to close the alarm:  c\n"
     ]
    },
    {
     "name": "stdout",
     "output_type": "stream",
     "text": [
      "Alarm closed.\n",
      "Current time: 14:00:07\n",
      "Alarm ringing!\n"
     ]
    }
   ],
   "source": [
    "import datetime\n",
    "import time\n",
    "from playsound import playsound\n",
    "import threading\n",
    "\n",
    "\n",
    "alarm_running = False\n",
    "\n",
    "def play_alarm(sound_file):\n",
    "    global alarm_running\n",
    "    playsound(sound_file)\n",
    "    alarm_running = False  \n",
    "\n",
    "def set_alarm(alarm_time, snooze_duration, sound_file):\n",
    "    global alarm_running\n",
    "    print(f\"Alarm set for {alarm_time.strftime('%H:%M:%S')} with snooze duration of {snooze_duration} minutes.\")\n",
    "    \n",
    "    while True:\n",
    "        current_time = datetime.datetime.now()\n",
    "        print(f\"Current time: {current_time.strftime('%H:%M:%S')}\", end='\\r')\n",
    "\n",
    "        if current_time.hour == alarm_time.hour and current_time.minute == alarm_time.minute and not alarm_running:\n",
    "            print(\"\\nAlarm ringing!\")\n",
    "            alarm_running = True\n",
    "            \n",
    "            \n",
    "            threading.Thread(target=play_alarm, args=(sound_file,)).start()\n",
    "\n",
    "            while alarm_running:\n",
    "                user_input = input(\"Press 's' to snooze or 'c' to close the alarm: \").strip().lower()\n",
    "                if user_input == 's':\n",
    "                    print(\"Snoozing for 5 minutes...\")\n",
    "                    time.sleep(5)  # Optional: give user feedback before snooze\n",
    "                    alarm_time += datetime.timedelta(minutes=snooze_duration)\n",
    "                    break\n",
    "                elif user_input == 'c':\n",
    "                    print(\"Alarm closed.\")\n",
    "                    alarm_running = False\n",
    "                    break\n",
    "\n",
    "        time.sleep(1)\n",
    "\n",
    "if __name__ == \"__main__\":\n",
    "    \n",
    "    hour = int(input(\"Enter the hour (0-23): \"))\n",
    "    minute = int(input(\"Enter the minute (0-59): \"))\n",
    "    snooze_duration = int(input(\"Enter snooze duration (in minutes): \"))\n",
    "    \n",
    "    alarm_time = datetime.datetime.now().replace(hour=hour, minute=minute, second=0, microsecond=0)\n",
    "\n",
    "    \n",
    "    if alarm_time < datetime.datetime.now():\n",
    "        alarm_time += datetime.timedelta(days=1)\n",
    "\n",
    "    sound_file = \"C:\\Download\\Alarm_Sound.mp3\"  \n",
    "    set_alarm(alarm_time, snooze_duration, sound_file)\n"
   ]
  },
  {
   "cell_type": "code",
   "execution_count": null,
   "id": "501b9f21-6c41-4a6a-b8b4-3ada7a5dcfd6",
   "metadata": {},
   "outputs": [],
   "source": []
  }
 ],
 "metadata": {
  "kernelspec": {
   "display_name": "Python 3 (ipykernel)",
   "language": "python",
   "name": "python3"
  },
  "language_info": {
   "codemirror_mode": {
    "name": "ipython",
    "version": 3
   },
   "file_extension": ".py",
   "mimetype": "text/x-python",
   "name": "python",
   "nbconvert_exporter": "python",
   "pygments_lexer": "ipython3",
   "version": "3.12.4"
  }
 },
 "nbformat": 4,
 "nbformat_minor": 5
}
